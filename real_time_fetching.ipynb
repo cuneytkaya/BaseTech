{
  "nbformat": 4,
  "nbformat_minor": 0,
  "metadata": {
    "colab": {
      "provenance": []
    },
    "kernelspec": {
      "name": "python3",
      "display_name": "Python 3"
    },
    "language_info": {
      "name": "python"
    }
  },
  "cells": [
    {
      "cell_type": "code",
      "execution_count": 1,
      "metadata": {
        "colab": {
          "base_uri": "https://localhost:8080/"
        },
        "id": "kL8XCmj3B6iv",
        "outputId": "486fecf4-9e63-4fa2-e0ed-4472d742133d"
      },
      "outputs": [
        {
          "output_type": "stream",
          "name": "stdout",
          "text": [
            "Requirement already satisfied: requests in /usr/local/lib/python3.10/dist-packages (2.32.3)\n",
            "Collecting influxdb-client\n",
            "  Downloading influxdb_client-1.45.0-py3-none-any.whl.metadata (64 kB)\n",
            "\u001b[2K     \u001b[90m━━━━━━━━━━━━━━━━━━━━━━━━━━━━━━━━━━━━━━━━\u001b[0m \u001b[32m64.8/64.8 kB\u001b[0m \u001b[31m357.9 kB/s\u001b[0m eta \u001b[36m0:00:00\u001b[0m\n",
            "\u001b[?25hRequirement already satisfied: pandas in /usr/local/lib/python3.10/dist-packages (2.1.4)\n",
            "Requirement already satisfied: plotly in /usr/local/lib/python3.10/dist-packages (5.15.0)\n",
            "Requirement already satisfied: charset-normalizer<4,>=2 in /usr/local/lib/python3.10/dist-packages (from requests) (3.3.2)\n",
            "Requirement already satisfied: idna<4,>=2.5 in /usr/local/lib/python3.10/dist-packages (from requests) (3.7)\n",
            "Requirement already satisfied: urllib3<3,>=1.21.1 in /usr/local/lib/python3.10/dist-packages (from requests) (2.0.7)\n",
            "Requirement already satisfied: certifi>=2017.4.17 in /usr/local/lib/python3.10/dist-packages (from requests) (2024.7.4)\n",
            "Collecting reactivex>=4.0.4 (from influxdb-client)\n",
            "  Downloading reactivex-4.0.4-py3-none-any.whl.metadata (5.5 kB)\n",
            "Requirement already satisfied: python-dateutil>=2.5.3 in /usr/local/lib/python3.10/dist-packages (from influxdb-client) (2.8.2)\n",
            "Requirement already satisfied: setuptools>=21.0.0 in /usr/local/lib/python3.10/dist-packages (from influxdb-client) (71.0.4)\n",
            "Requirement already satisfied: numpy<2,>=1.22.4 in /usr/local/lib/python3.10/dist-packages (from pandas) (1.26.4)\n",
            "Requirement already satisfied: pytz>=2020.1 in /usr/local/lib/python3.10/dist-packages (from pandas) (2024.1)\n",
            "Requirement already satisfied: tzdata>=2022.1 in /usr/local/lib/python3.10/dist-packages (from pandas) (2024.1)\n",
            "Requirement already satisfied: tenacity>=6.2.0 in /usr/local/lib/python3.10/dist-packages (from plotly) (9.0.0)\n",
            "Requirement already satisfied: packaging in /usr/local/lib/python3.10/dist-packages (from plotly) (24.1)\n",
            "Requirement already satisfied: six>=1.5 in /usr/local/lib/python3.10/dist-packages (from python-dateutil>=2.5.3->influxdb-client) (1.16.0)\n",
            "Requirement already satisfied: typing-extensions<5.0.0,>=4.1.1 in /usr/local/lib/python3.10/dist-packages (from reactivex>=4.0.4->influxdb-client) (4.12.2)\n",
            "Downloading influxdb_client-1.45.0-py3-none-any.whl (745 kB)\n",
            "\u001b[2K   \u001b[90m━━━━━━━━━━━━━━━━━━━━━━━━━━━━━━━━━━━━━━━━\u001b[0m \u001b[32m745.4/745.4 kB\u001b[0m \u001b[31m4.9 MB/s\u001b[0m eta \u001b[36m0:00:00\u001b[0m\n",
            "\u001b[?25hDownloading reactivex-4.0.4-py3-none-any.whl (217 kB)\n",
            "\u001b[2K   \u001b[90m━━━━━━━━━━━━━━━━━━━━━━━━━━━━━━━━━━━━━━━━\u001b[0m \u001b[32m217.8/217.8 kB\u001b[0m \u001b[31m9.0 MB/s\u001b[0m eta \u001b[36m0:00:00\u001b[0m\n",
            "\u001b[?25hInstalling collected packages: reactivex, influxdb-client\n",
            "Successfully installed influxdb-client-1.45.0 reactivex-4.0.4\n"
          ]
        }
      ],
      "source": [
        "!pip install requests influxdb-client pandas plotly"
      ]
    },
    {
      "cell_type": "code",
      "source": [
        "import os\n",
        "from influxdb_client import InfluxDBClient\n",
        "\n",
        "# InfluxDB bağlantı detayları\n",
        "INFLUXDB_TOKEN = \"MxddIErEuQSpOYo1QOnIcuYEtJUUAzabDWEHaEeEJNFIA80QYxMzf8fa1Ovs710rkNVE4TCCVj5vs6AwQI_ebA==\"\n",
        "INFLUXDB_ORG = \"Data Team\"\n",
        "INFLUXDB_BUCKET = \"weatherbucket\"\n",
        "\n",
        "# InfluxDB istemcisini başlatma\n",
        "client = InfluxDBClient(url=\"https://us-east-1-1.aws.cloud2.influxdata.com/\", token=INFLUXDB_TOKEN)\n"
      ],
      "metadata": {
        "id": "mhl8Nx5oCDhI"
      },
      "execution_count": 12,
      "outputs": []
    },
    {
      "cell_type": "code",
      "source": [
        "import requests\n",
        "\n",
        "# OpenWeatherMap API anahtarı\n",
        "API_KEY = \"afb29bc902762d3e4ec333d0719ac339\"\n",
        "\n",
        "# İstanbul şehrinin hava durumu verilerini çekme\n",
        "def get_weather_data(city):\n",
        "    base_url = \"http://api.openweathermap.org/data/2.5/weather\"\n",
        "    params = {\n",
        "        \"q\": city,\n",
        "        \"appid\": API_KEY,\n",
        "        \"units\": \"metric\"  # Sıcaklığı Celsius cinsinden almak için\n",
        "    }\n",
        "\n",
        "    response = requests.get(base_url, params=params)\n",
        "    data = response.json()\n",
        "\n",
        "    if response.status_code == 200:\n",
        "        return data\n",
        "    else:\n",
        "        print(f\"Error: {data['message']}\")\n",
        "        return None\n",
        "\n",
        "# İstanbul şehri için hava durumu verilerini çekme\n",
        "weather_data = get_weather_data(\"Istanbul\")\n",
        "print(weather_data)\n"
      ],
      "metadata": {
        "colab": {
          "base_uri": "https://localhost:8080/"
        },
        "id": "0XOwMTlECGX-",
        "outputId": "7d763ef2-0bd0-4382-fd75-25cb90d4002b"
      },
      "execution_count": 13,
      "outputs": [
        {
          "output_type": "stream",
          "name": "stdout",
          "text": [
            "{'coord': {'lon': 28.9833, 'lat': 41.0351}, 'weather': [{'id': 800, 'main': 'Clear', 'description': 'clear sky', 'icon': '01n'}], 'base': 'stations', 'main': {'temp': 25.13, 'feels_like': 25.53, 'temp_min': 25.13, 'temp_max': 25.68, 'pressure': 1011, 'humidity': 70, 'sea_level': 1011, 'grnd_level': 1003}, 'visibility': 10000, 'wind': {'speed': 5.14, 'deg': 40}, 'clouds': {'all': 0}, 'dt': 1724698410, 'sys': {'type': 2, 'id': 2092591, 'country': 'TR', 'sunrise': 1724642708, 'sunset': 1724690816}, 'timezone': 10800, 'id': 745042, 'name': 'Istanbul', 'cod': 200}\n"
          ]
        }
      ]
    },
    {
      "cell_type": "code",
      "source": [
        "def validate_weather_data(data):\n",
        "    temp = data['main']['temp']\n",
        "    humidity = data['main']['humidity']\n",
        "    wind_speed = data['wind']['speed']\n",
        "\n",
        "    if not (-100 <= temp <= 60):\n",
        "        print(f\"Temperature {temp}°C is out of the valid range!\")\n",
        "\n",
        "    if not (0 <= humidity <= 100):\n",
        "        print(f\"Humidity {humidity}% is out of the valid range!\")\n",
        "\n",
        "    if not (0 <= wind_speed <= 200):\n",
        "        print(f\"Wind speed {wind_speed} km/h is out of the valid range!\")\n",
        "\n",
        "    # Eğer veriler geçerliyse True döndürelim\n",
        "    return (-100 <= temp <= 60) and (0 <= humidity <= 100) and (0 <= wind_speed <= 200)\n",
        "\n",
        "# İstanbul hava durumu verilerini doğrulama\n",
        "is_valid = validate_weather_data(weather_data)\n",
        "print(f\"Is the data valid? {is_valid}\")\n"
      ],
      "metadata": {
        "colab": {
          "base_uri": "https://localhost:8080/"
        },
        "id": "YXyF82spChr2",
        "outputId": "4ec113cb-d7e3-4c34-b03c-0ecf66bc8f20"
      },
      "execution_count": 14,
      "outputs": [
        {
          "output_type": "stream",
          "name": "stdout",
          "text": [
            "Is the data valid? True\n"
          ]
        }
      ]
    },
    {
      "cell_type": "code",
      "source": [
        "def clean_weather_data(data):\n",
        "    # Sıcaklık kontrolü ve dönüşümü (eğer Kelvin ise Celsius'a çevirme)\n",
        "    if data['main']['temp'] > 100:  # 100°C üstündeki sıcaklıklar Kelvin olabilir\n",
        "        data['main']['temp'] = data['main']['temp'] - 273.15\n",
        "        data['main']['feels_like'] = data['main']['feels_like'] - 273.15\n",
        "\n",
        "    # Rüzgar hızını ve yönünü daha kullanıcı dostu bir formatta birleştirme\n",
        "    wind_info = f\"{data['wind']['speed']} km/h from {data['wind']['deg']}°\"\n",
        "\n",
        "    # Temizlenmiş verileri bir dictionary olarak döndürelim\n",
        "    cleaned_data = {\n",
        "        \"temperature\": data['main']['temp'],\n",
        "        \"feels_like\": data['main']['feels_like'],\n",
        "        \"humidity\": data['main']['humidity'],\n",
        "        \"wind\": wind_info,\n",
        "        \"description\": data['weather'][0]['description'],\n",
        "        \"city\": data['name'],\n",
        "        \"country\": data['sys']['country']\n",
        "    }\n",
        "\n",
        "    return cleaned_data\n",
        "\n",
        "# Veriyi temizleyip düzenleme\n",
        "cleaned_weather_data = clean_weather_data(weather_data)\n",
        "print(cleaned_weather_data)\n"
      ],
      "metadata": {
        "colab": {
          "base_uri": "https://localhost:8080/"
        },
        "id": "w3fBvpXhCr1e",
        "outputId": "3ba31b2c-0ce6-4004-8a23-17b7b9a9c64c"
      },
      "execution_count": 15,
      "outputs": [
        {
          "output_type": "stream",
          "name": "stdout",
          "text": [
            "{'temperature': 25.13, 'feels_like': 25.53, 'humidity': 70, 'wind': '5.14 km/h from 40°', 'description': 'clear sky', 'city': 'Istanbul', 'country': 'TR'}\n"
          ]
        }
      ]
    },
    {
      "cell_type": "code",
      "source": [
        "from influxdb_client import Point\n",
        "from influxdb_client.client.write_api import SYNCHRONOUS\n",
        "import datetime\n",
        "\n",
        "# InfluxDB istemcisi ve yazma API'si\n",
        "write_api = client.write_api(write_options=SYNCHRONOUS)\n",
        "\n",
        "# Verileri InfluxDB formatında hazırlama\n",
        "point = Point(\"weather_data\") \\\n",
        "    .tag(\"location\", cleaned_weather_data[\"city\"]) \\\n",
        "    .tag(\"country\", cleaned_weather_data[\"country\"]) \\\n",
        "    .field(\"temperature\", cleaned_weather_data[\"temperature\"]) \\\n",
        "    .field(\"feels_like\", cleaned_weather_data[\"feels_like\"]) \\\n",
        "    .field(\"humidity\", cleaned_weather_data[\"humidity\"]) \\\n",
        "    .field(\"wind\", cleaned_weather_data[\"wind\"].split()[0]) \\\n",
        "    .field(\"wind_direction\", cleaned_weather_data[\"wind\"].split()[-1]) \\\n",
        "    .field(\"description\", cleaned_weather_data[\"description\"]) \\\n",
        "    .time(datetime.datetime.utcnow(), write_precision=\"s\")\n",
        "\n",
        "# Veriyi InfluxDB'ye yazma\n",
        "write_api.write(bucket=INFLUXDB_BUCKET, org=INFLUXDB_ORG, record=point)\n",
        "print(\"Data written to InfluxDB successfully!\")\n"
      ],
      "metadata": {
        "colab": {
          "base_uri": "https://localhost:8080/"
        },
        "id": "JZFCEl6mCzmv",
        "outputId": "e8a5c360-b6fa-4a86-9978-7b75a8110510"
      },
      "execution_count": 16,
      "outputs": [
        {
          "output_type": "stream",
          "name": "stdout",
          "text": [
            "Data written to InfluxDB successfully!\n"
          ]
        }
      ]
    },
    {
      "cell_type": "code",
      "source": [
        "from influxdb_client import InfluxDBClient\n",
        "import pandas as pd\n",
        "\n",
        "# InfluxDB bağlantı detayları\n",
        "INFLUXDB_TOKEN = \"MxddIErEuQSpOYo1QOnIcuYEtJUUAzabDWEHaEeEJNFIA80QYxMzf8fa1Ovs710rkNVE4TCCVj5vs6AwQI_ebA==\"\n",
        "INFLUXDB_ORG = \"Data Team\"\n",
        "INFLUXDB_BUCKET = \"weatherbucket\"\n",
        "\n",
        "# InfluxDB istemcisini başlatma\n",
        "client = InfluxDBClient(url=\"https://us-east-1-1.aws.cloud2.influxdata.com/\", token=INFLUXDB_TOKEN)\n",
        "\n",
        "# Yazma API'si\n",
        "query_api = client.query_api()\n",
        "\n",
        "# Basit veri çekme sorgusu\n",
        "query = f\"\"\"\n",
        "from(bucket: \"{INFLUXDB_BUCKET}\")\n",
        "  |> range(start: -1d)\n",
        "  |> filter(fn: (r) => r[\"_measurement\"] == \"weather_data\")\n",
        "\"\"\"\n",
        "\n",
        "# Veriyi çekmek\n",
        "results = query_api.query(query, org=INFLUXDB_ORG)\n",
        "\n",
        "# Veriyi manuel olarak işleme\n",
        "data = []\n",
        "for table in results:\n",
        "    for record in table.records:\n",
        "        data.append({\n",
        "            \"time\": record.get_time(),\n",
        "            \"field\": record.get_field(),\n",
        "            \"value\": record.get_value()\n",
        "        })\n",
        "\n",
        "# Pandas DataFrame oluşturma\n",
        "df = pd.DataFrame(data)\n",
        "print(df.head())\n",
        "\n"
      ],
      "metadata": {
        "colab": {
          "base_uri": "https://localhost:8080/"
        },
        "id": "z9cSmjq5ENZ5",
        "outputId": "b87c607a-a1cf-4efc-b6fb-85db73b62d6b"
      },
      "execution_count": 19,
      "outputs": [
        {
          "output_type": "stream",
          "name": "stdout",
          "text": [
            "                       time        field      value\n",
            "0 2024-08-26 18:59:44+00:00  description  clear sky\n",
            "1 2024-08-26 18:59:44+00:00   feels_like      25.53\n",
            "2 2024-08-26 18:59:44+00:00     humidity         70\n",
            "3 2024-08-26 18:59:44+00:00  temperature      25.13\n",
            "4 2024-08-26 18:59:44+00:00         wind       5.14\n"
          ]
        }
      ]
    },
    {
      "cell_type": "code",
      "source": [
        "# Veriyi pivot etmek için\n",
        "df_pivot = df.pivot(index='time', columns='field', values='value')\n",
        "\n",
        "# Sonuçları görmek için\n",
        "print(df_pivot.head())\n"
      ],
      "metadata": {
        "colab": {
          "base_uri": "https://localhost:8080/"
        },
        "id": "oqLcy_4wFEaB",
        "outputId": "012db39a-67c0-43cb-d204-2e3674f54854"
      },
      "execution_count": 20,
      "outputs": [
        {
          "output_type": "stream",
          "name": "stdout",
          "text": [
            "field                            Feels Like Humidity Temperature  \\\n",
            "time                                                               \n",
            "2024-08-26 18:15:49.296870+00:00       34.5       77       29.15   \n",
            "2024-08-26 18:59:44+00:00               NaN      NaN         NaN   \n",
            "\n",
            "field                                       Wind description feels_like  \\\n",
            "time                                                                      \n",
            "2024-08-26 18:15:49.296870+00:00  5.66 km/s Doğu         NaN        NaN   \n",
            "2024-08-26 18:59:44+00:00                    NaN   clear sky      25.53   \n",
            "\n",
            "field                            humidity temperature  wind wind_direction  \n",
            "time                                                                        \n",
            "2024-08-26 18:15:49.296870+00:00      NaN         NaN   NaN            NaN  \n",
            "2024-08-26 18:59:44+00:00              70       25.13  5.14            40°  \n"
          ]
        }
      ]
    },
    {
      "cell_type": "code",
      "source": [
        "# Zaman damgasını datetime formatına dönüştürme (eğer gerekli ise)\n",
        "df['time'] = pd.to_datetime(df['time'])\n",
        "\n",
        "# Zaman damgasını kontrol etme\n",
        "print(df['time'].head())\n"
      ],
      "metadata": {
        "colab": {
          "base_uri": "https://localhost:8080/"
        },
        "id": "knKbMwJ1FFcA",
        "outputId": "038d108f-d2bc-4ac3-d34a-2f73fb6e5e59"
      },
      "execution_count": 21,
      "outputs": [
        {
          "output_type": "stream",
          "name": "stdout",
          "text": [
            "0   2024-08-26 18:59:44+00:00\n",
            "1   2024-08-26 18:59:44+00:00\n",
            "2   2024-08-26 18:59:44+00:00\n",
            "3   2024-08-26 18:59:44+00:00\n",
            "4   2024-08-26 18:59:44+00:00\n",
            "Name: time, dtype: datetime64[ns, tzlocal()]\n"
          ]
        }
      ]
    },
    {
      "cell_type": "code",
      "source": [
        "# NaN değerleri temizleme veya doldurma\n",
        "df_pivot = df_pivot.fillna(0)\n"
      ],
      "metadata": {
        "id": "GZXxl5IdFadq"
      },
      "execution_count": 23,
      "outputs": []
    },
    {
      "cell_type": "code",
      "source": [
        "# 'wind' sütununun ilk birkaç değerini kontrol etme\n",
        "print(df_pivot['wind'].head())\n"
      ],
      "metadata": {
        "colab": {
          "base_uri": "https://localhost:8080/"
        },
        "id": "8ktMA_0-Fro6",
        "outputId": "37fcffa3-21b6-4c84-e5ca-2f0ffaf68da0"
      },
      "execution_count": 25,
      "outputs": [
        {
          "output_type": "stream",
          "name": "stdout",
          "text": [
            "time\n",
            "2024-08-26 18:15:49.296870+00:00       0\n",
            "2024-08-26 18:59:44+00:00           5.14\n",
            "Name: wind, dtype: object\n"
          ]
        }
      ]
    },
    {
      "cell_type": "code",
      "source": [
        "# 'wind' sütununu float türüne dönüştürme\n",
        "df_pivot['wind'] = pd.to_numeric(df_pivot['wind'], errors='coerce')\n",
        "\n",
        "# NaN değerleri 0 ile doldurma (veya uygun bir değer ile)\n",
        "df_pivot['wind'] = df_pivot['wind'].fillna(0)\n"
      ],
      "metadata": {
        "id": "Qs8yn05fFxik"
      },
      "execution_count": 26,
      "outputs": []
    },
    {
      "cell_type": "code",
      "source": [
        "import matplotlib.pyplot as plt\n",
        "\n",
        "# Grafik oluşturma\n",
        "plt.figure(figsize=(10, 6))\n",
        "plt.plot(df_pivot.index, df_pivot['temperature'], label='Temperature')\n",
        "plt.plot(df_pivot.index, df_pivot['humidity'], label='Humidity')\n",
        "plt.plot(df_pivot.index, df_pivot['wind'], label='Wind Speed')\n",
        "\n",
        "plt.xlabel('Time')\n",
        "plt.ylabel('Values')\n",
        "plt.title('Weather Data Over Time')\n",
        "plt.legend()\n",
        "plt.show()\n"
      ],
      "metadata": {
        "colab": {
          "base_uri": "https://localhost:8080/",
          "height": 564
        },
        "id": "TCMARSFKF1cq",
        "outputId": "42290196-7a5d-4531-8a9a-52413641dc2f"
      },
      "execution_count": 27,
      "outputs": [
        {
          "output_type": "display_data",
          "data": {
            "text/plain": [
              "<Figure size 1000x600 with 1 Axes>"
            ],
            "image/png": "[encoded data removed]"
          },
          "metadata": {}
        }
      ]
    }
  ]
}